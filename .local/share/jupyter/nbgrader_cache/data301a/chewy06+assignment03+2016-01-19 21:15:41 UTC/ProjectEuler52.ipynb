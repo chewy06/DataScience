{
 "cells": [
  {
   "cell_type": "markdown",
   "metadata": {
    "nbgrader": {}
   },
   "source": [
    "# Project Euler: Problem 52"
   ]
  },
  {
   "cell_type": "markdown",
   "metadata": {
    "nbgrader": {}
   },
   "source": [
    "https://projecteuler.net/problem=52\n",
    "\n",
    "It can be seen that the number, $125874$, and its double, $251748$, contain exactly the same digits, but in a different order.\n",
    "\n",
    "Find the smallest positive integer, $x$, such that $2x$, $3x$, $4x$, $5x$, and $6x$, contain the same digits."
   ]
  },
  {
   "cell_type": "markdown",
   "metadata": {
    "nbgrader": {}
   },
   "source": [
    "First, write a function `same_digits(x,y)` that returns `True` if two integers `x` and `y` have the exact same set of digits and multiplicities and `False` if they have different digits."
   ]
  },
  {
   "cell_type": "code",
   "execution_count": 67,
   "metadata": {
    "collapsed": false,
    "deletable": false,
    "nbgrader": {
     "checksum": "2dd4de69c776df11b701349e87ca7dd9",
     "grade": false,
     "grade_id": "projecteuler52a",
     "locked": false,
     "solution": true
    }
   },
   "outputs": [],
   "source": [
    "def same_digits(x, y):\n",
    "    a = list(x)\n",
    "    b = list(y)\n",
    "    \n",
    "    if len(a) != len(b):\n",
    "        return False\n",
    "        \n",
    "    for i in range(len(a)):\n",
    "        if a[i] not in b:\n",
    "            return False\n",
    "        \n",
    "    return True\n",
    "    "
   ]
  },
  {
   "cell_type": "code",
   "execution_count": 68,
   "metadata": {
    "collapsed": false,
    "deletable": false,
    "nbgrader": {
     "checksum": "68dd62be6ea1a948a22a44b0dc533f80",
     "grade": true,
     "grade_id": "projecteuler52b",
     "points": 4
    }
   },
   "outputs": [],
   "source": [
    "assert same_digits('132', '321')\n",
    "assert not same_digits('123', '3')\n",
    "assert not same_digits('456', '0987654321')"
   ]
  },
  {
   "cell_type": "markdown",
   "metadata": {
    "nbgrader": {}
   },
   "source": [
    "Now use the `same_digits` function to solve this Euler problem. As you work on this problem, be careful to debug and test your code on small integers before trying it on the full search."
   ]
  },
  {
   "cell_type": "code",
   "execution_count": 92,
   "metadata": {
    "collapsed": false,
    "deletable": false,
    "nbgrader": {
     "checksum": "f4573370c3c6d32546e96be8069eb09f",
     "grade": true,
     "grade_id": "projecteuler52c",
     "locked": false,
     "points": 6,
     "solution": true
    }
   },
   "outputs": [],
   "source": [
    "def find_small():\n",
    "    s = True\n",
    "    x = 1\n",
    "\n",
    "    while s:\n",
    "        if same_digits(str(2*x), str(3*x)) and same_digits(str(3*x), str(4*x)):\n",
    "            if same_digits(str(4*x), str(5*x)) and same_digits(str(5*x),str(6*x)):\n",
    "                return x\n",
    "        else:\n",
    "            x += 1\n",
    "\n",
    "    return 0\n"
   ]
  },
  {
   "cell_type": "code",
   "execution_count": 93,
   "metadata": {
    "collapsed": false
   },
   "outputs": [
    {
     "data": {
      "text/plain": [
       "142857"
      ]
     },
     "execution_count": 93,
     "metadata": {},
     "output_type": "execute_result"
    }
   ],
   "source": [
    "find_small()"
   ]
  },
  {
   "cell_type": "code",
   "execution_count": null,
   "metadata": {
    "collapsed": true
   },
   "outputs": [],
   "source": []
  }
 ],
 "metadata": {
  "kernelspec": {
   "display_name": "Python 3",
   "language": "python",
   "name": "python3"
  },
  "language_info": {
   "codemirror_mode": {
    "name": "ipython",
    "version": 3
   },
   "file_extension": ".py",
   "mimetype": "text/x-python",
   "name": "python",
   "nbconvert_exporter": "python",
   "pygments_lexer": "ipython3",
   "version": "3.4.3"
  }
 },
 "nbformat": 4,
 "nbformat_minor": 0
}
