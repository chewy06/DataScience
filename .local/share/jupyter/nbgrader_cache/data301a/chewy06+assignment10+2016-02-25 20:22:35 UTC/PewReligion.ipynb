{
 "cells": [
  {
   "cell_type": "markdown",
   "metadata": {},
   "source": [
    "# Pew Research Center's Religious Landscape Study"
   ]
  },
  {
   "cell_type": "markdown",
   "metadata": {},
   "source": [
    "In this notebook you will clean and wrangle a dataset that has come out of the Pew Research Center's [Religious Landscape Study](http://www.pewforum.org/religious-landscape-study/). The actual dataset used comes from Hadley Wickham's [Tidy Data Repository](https://github.com/hadley/tidy-data)."
   ]
  },
  {
   "cell_type": "markdown",
   "metadata": {},
   "source": [
    "## Imports"
   ]
  },
  {
   "cell_type": "code",
   "execution_count": 1,
   "metadata": {
    "collapsed": true
   },
   "outputs": [],
   "source": [
    "%matplotlib inline\n",
    "import matplotlib.pyplot as plt\n",
    "import seaborn as sns\n",
    "\n",
    "import numpy as np\n",
    "import pandas as pd"
   ]
  },
  {
   "cell_type": "markdown",
   "metadata": {},
   "source": [
    "## Read in the data"
   ]
  },
  {
   "cell_type": "markdown",
   "metadata": {},
   "source": [
    "Here, we read in the data using `read_csv`:"
   ]
  },
  {
   "cell_type": "code",
   "execution_count": 2,
   "metadata": {
    "collapsed": false
   },
   "outputs": [],
   "source": [
    "df = pd.read_csv('/data/tidy-data/data/pew.csv')"
   ]
  },
  {
   "cell_type": "markdown",
   "metadata": {},
   "source": [
    "Extract the following columns and rename them:\n",
    "\n",
    "* `q16`\n",
    "* `reltrad` -> `religion`\n",
    "* `income`"
   ]
  },
  {
   "cell_type": "code",
   "execution_count": 3,
   "metadata": {
    "collapsed": false,
    "deletable": false,
    "nbgrader": {
     "checksum": "d05111f46ef8414131c8c9b9046bf809",
     "grade": false,
     "grade_id": "pew-religion-a",
     "locked": false,
     "solution": true
    }
   },
   "outputs": [],
   "source": [
    "df = df[list(['q16', 'reltrad', 'income'])]"
   ]
  },
  {
   "cell_type": "code",
   "execution_count": 4,
   "metadata": {
    "collapsed": true
   },
   "outputs": [],
   "source": [
    "df.columns=['q16', 'religion', 'income']"
   ]
  },
  {
   "cell_type": "code",
   "execution_count": 5,
   "metadata": {
    "collapsed": false
   },
   "outputs": [
    {
     "data": {
      "text/html": [
       "<div>\n",
       "<table border=\"1\" class=\"dataframe\">\n",
       "  <thead>\n",
       "    <tr style=\"text-align: right;\">\n",
       "      <th></th>\n",
       "      <th>q16</th>\n",
       "      <th>religion</th>\n",
       "      <th>income</th>\n",
       "    </tr>\n",
       "  </thead>\n",
       "  <tbody>\n",
       "    <tr>\n",
       "      <th>0</th>\n",
       "      <td>Protestant</td>\n",
       "      <td>Evangelical Protestant Churches</td>\n",
       "      <td>75 to under $100,000</td>\n",
       "    </tr>\n",
       "    <tr>\n",
       "      <th>1</th>\n",
       "      <td>Protestant</td>\n",
       "      <td>Mainline Protestant Churches</td>\n",
       "      <td>20 to under $30,000</td>\n",
       "    </tr>\n",
       "    <tr>\n",
       "      <th>2</th>\n",
       "      <td>Protestant</td>\n",
       "      <td>Mainline Protestant Churches</td>\n",
       "      <td>30 to under $40,000</td>\n",
       "    </tr>\n",
       "    <tr>\n",
       "      <th>3</th>\n",
       "      <td>Nothing in particular</td>\n",
       "      <td>Unaffiliated</td>\n",
       "      <td>Less than $10,000</td>\n",
       "    </tr>\n",
       "    <tr>\n",
       "      <th>4</th>\n",
       "      <td>Jewish (Judaism)</td>\n",
       "      <td>Jewish</td>\n",
       "      <td>50 to under $75,000</td>\n",
       "    </tr>\n",
       "  </tbody>\n",
       "</table>\n",
       "</div>"
      ],
      "text/plain": [
       "                       q16                           religion  \\\n",
       "0              Protestant    Evangelical Protestant Churches    \n",
       "1              Protestant       Mainline Protestant Churches    \n",
       "2              Protestant       Mainline Protestant Churches    \n",
       "3   Nothing in particular                       Unaffiliated    \n",
       "4        Jewish (Judaism)                             Jewish    \n",
       "\n",
       "                 income  \n",
       "0  75 to under $100,000  \n",
       "1   20 to under $30,000  \n",
       "2   30 to under $40,000  \n",
       "3     Less than $10,000  \n",
       "4   50 to under $75,000  "
      ]
     },
     "execution_count": 5,
     "metadata": {},
     "output_type": "execute_result"
    }
   ],
   "source": [
    "df.head()"
   ]
  },
  {
   "cell_type": "code",
   "execution_count": 6,
   "metadata": {
    "collapsed": true,
    "deletable": false,
    "nbgrader": {
     "checksum": "2dc1ddacf369cba41d6f21952e4ea714",
     "grade": true,
     "grade_id": "pew-religion-b",
     "locked": true,
     "points": 2,
     "solution": false
    }
   },
   "outputs": [],
   "source": [
    "assert list(df.columns)==['q16', 'religion', 'income']\n",
    "assert len(df)==35556"
   ]
  },
  {
   "cell_type": "markdown",
   "metadata": {},
   "source": [
    "## Religion"
   ]
  },
  {
   "cell_type": "markdown",
   "metadata": {},
   "source": [
    "Now you are going to tidy up the `religion` column. Perform the following transformations of the `religion` column:\n",
    "\n",
    "* Replace `'Churches'` by an empty string\n",
    "* Replace `'Protestant'` by `'Prot'`\n",
    "* For the rows that have `\" Atheist (do not believe in God) \"` in the `q16` column, put the value `'Atheist'` in the\n",
    "  `religion` column\n",
    "* For rows that have `\" Agnostic (not sure if there is a God) \"` in the `q16` column, put the value `'Agnostic'` in the `religion` column\n",
    "* For rows that have the phrase `\"(no information on religious affiliation)\"`, replace their value by `'Unknown'`\n",
    "* Strip leading and trailing whitespace"
   ]
  },
  {
   "cell_type": "code",
   "execution_count": 7,
   "metadata": {
    "collapsed": false,
    "deletable": false,
    "nbgrader": {
     "checksum": "552b1ff0f19f4b7546a1df5873c4d42b",
     "grade": false,
     "grade_id": "pew-religion-c",
     "locked": false,
     "solution": true
    }
   },
   "outputs": [],
   "source": [
    "df['religion'] = df['religion'].replace(to_replace='Churches',value='', regex=True)"
   ]
  },
  {
   "cell_type": "code",
   "execution_count": 8,
   "metadata": {
    "collapsed": false
   },
   "outputs": [],
   "source": [
    "df['religion'] = df['religion'].replace(to_replace='Protestant',value='Prot', regex=True)"
   ]
  },
  {
   "cell_type": "code",
   "execution_count": 9,
   "metadata": {
    "collapsed": false
   },
   "outputs": [],
   "source": [
    "df['q16'] = df['q16'].str.strip()"
   ]
  },
  {
   "cell_type": "code",
   "execution_count": 10,
   "metadata": {
    "collapsed": true
   },
   "outputs": [],
   "source": [
    "df.loc[df.q16 == 'Atheist (do not believe in God)', ['religion']] = 'Atheist'"
   ]
  },
  {
   "cell_type": "code",
   "execution_count": 11,
   "metadata": {
    "collapsed": false
   },
   "outputs": [],
   "source": [
    "df.loc[df.q16 == 'Agnostic (not sure if there is a God)', ['religion']] = 'Agnostic'"
   ]
  },
  {
   "cell_type": "code",
   "execution_count": 12,
   "metadata": {
    "collapsed": false
   },
   "outputs": [],
   "source": [
    "df['religion'] = df['religion'].str.replace('^.*?\\)','Unknown')"
   ]
  },
  {
   "cell_type": "code",
   "execution_count": 13,
   "metadata": {
    "collapsed": true
   },
   "outputs": [],
   "source": [
    "df['religion'] = df['religion'].str.strip()"
   ]
  },
  {
   "cell_type": "code",
   "execution_count": 14,
   "metadata": {
    "collapsed": false
   },
   "outputs": [
    {
     "data": {
      "text/plain": [
       "['Evangelical Prot',\n",
       " 'Mainline Prot',\n",
       " 'Unaffiliated',\n",
       " 'Jewish',\n",
       " 'Unknown',\n",
       " 'Other Faiths',\n",
       " 'Historically Black Prot',\n",
       " \"Jehovah's Witness\",\n",
       " 'Atheist',\n",
       " 'Agnostic',\n",
       " 'Catholic',\n",
       " 'Buddhist',\n",
       " 'Mormon',\n",
       " 'Muslim',\n",
       " 'Hindu',\n",
       " 'Other Christian',\n",
       " 'Orthodox',\n",
       " 'Other World Religions']"
      ]
     },
     "execution_count": 14,
     "metadata": {},
     "output_type": "execute_result"
    }
   ],
   "source": [
    "list(df['religion'].unique())"
   ]
  },
  {
   "cell_type": "code",
   "execution_count": 15,
   "metadata": {
    "collapsed": false,
    "deletable": false,
    "nbgrader": {
     "checksum": "86af6d5ce742920b6254c7e8949fe6fb",
     "grade": true,
     "grade_id": "pew-religion-d",
     "locked": true,
     "points": 2,
     "solution": false
    }
   },
   "outputs": [],
   "source": [
    "assert list(df['religion'].unique()) == \\\n",
    "['Evangelical Prot',\n",
    " 'Mainline Prot',\n",
    " 'Unaffiliated',\n",
    " 'Jewish',\n",
    " 'Unknown',\n",
    " 'Other Faiths',\n",
    " 'Historically Black Prot',\n",
    " \"Jehovah's Witness\",\n",
    " 'Atheist',\n",
    " 'Agnostic',\n",
    " 'Catholic',\n",
    " 'Buddhist',\n",
    " 'Mormon',\n",
    " 'Muslim',\n",
    " 'Hindu',\n",
    " 'Other Christian',\n",
    " 'Orthodox',\n",
    " 'Other World Religions']"
   ]
  },
  {
   "cell_type": "markdown",
   "metadata": {},
   "source": [
    "Now do the following:\n",
    "\n",
    "* Extract out just the `religion` and `income` columns\n",
    "* Convert the `religion` column to a categorical type"
   ]
  },
  {
   "cell_type": "code",
   "execution_count": 16,
   "metadata": {
    "collapsed": false,
    "deletable": false,
    "nbgrader": {
     "checksum": "d35886d61816e95351d6de1972003ab1",
     "grade": false,
     "grade_id": "pew-religion-e",
     "locked": false,
     "solution": true
    }
   },
   "outputs": [],
   "source": [
    "df = df[list(['religion', 'income'])]"
   ]
  },
  {
   "cell_type": "code",
   "execution_count": 17,
   "metadata": {
    "collapsed": true
   },
   "outputs": [],
   "source": [
    "df['religion']=df['religion'].astype('category')"
   ]
  },
  {
   "cell_type": "code",
   "execution_count": 18,
   "metadata": {
    "collapsed": false
   },
   "outputs": [
    {
     "data": {
      "text/html": [
       "<div>\n",
       "<table border=\"1\" class=\"dataframe\">\n",
       "  <thead>\n",
       "    <tr style=\"text-align: right;\">\n",
       "      <th></th>\n",
       "      <th>religion</th>\n",
       "      <th>income</th>\n",
       "    </tr>\n",
       "  </thead>\n",
       "  <tbody>\n",
       "    <tr>\n",
       "      <th>0</th>\n",
       "      <td>Evangelical Prot</td>\n",
       "      <td>75 to under $100,000</td>\n",
       "    </tr>\n",
       "    <tr>\n",
       "      <th>1</th>\n",
       "      <td>Mainline Prot</td>\n",
       "      <td>20 to under $30,000</td>\n",
       "    </tr>\n",
       "    <tr>\n",
       "      <th>2</th>\n",
       "      <td>Mainline Prot</td>\n",
       "      <td>30 to under $40,000</td>\n",
       "    </tr>\n",
       "    <tr>\n",
       "      <th>3</th>\n",
       "      <td>Unaffiliated</td>\n",
       "      <td>Less than $10,000</td>\n",
       "    </tr>\n",
       "    <tr>\n",
       "      <th>4</th>\n",
       "      <td>Jewish</td>\n",
       "      <td>50 to under $75,000</td>\n",
       "    </tr>\n",
       "  </tbody>\n",
       "</table>\n",
       "</div>"
      ],
      "text/plain": [
       "           religion                income\n",
       "0  Evangelical Prot  75 to under $100,000\n",
       "1     Mainline Prot   20 to under $30,000\n",
       "2     Mainline Prot   30 to under $40,000\n",
       "3      Unaffiliated     Less than $10,000\n",
       "4            Jewish   50 to under $75,000"
      ]
     },
     "execution_count": 18,
     "metadata": {},
     "output_type": "execute_result"
    }
   ],
   "source": [
    "df.head()"
   ]
  },
  {
   "cell_type": "code",
   "execution_count": 19,
   "metadata": {
    "collapsed": false,
    "deletable": false,
    "nbgrader": {
     "checksum": "d4a53879e3b66ba10f3f13ecf475b10b",
     "grade": true,
     "grade_id": "pew-religion-f",
     "locked": true,
     "points": 2,
     "solution": false
    }
   },
   "outputs": [],
   "source": [
    "assert list(df.columns)==['religion', 'income']\n",
    "assert df.religion.dtype.name=='category'"
   ]
  },
  {
   "cell_type": "markdown",
   "metadata": {},
   "source": [
    "Now make an appropriately labeled Seaborn `countplot` of the `religion` column on the y-axis, sorted by the number of people in each religion."
   ]
  },
  {
   "cell_type": "code",
   "execution_count": 20,
   "metadata": {
    "collapsed": false
   },
   "outputs": [],
   "source": [
    "df=df.sort_values(\"religion\", ascending=False)"
   ]
  },
  {
   "cell_type": "code",
   "execution_count": 21,
   "metadata": {
    "collapsed": false,
    "deletable": false,
    "nbgrader": {
     "checksum": "3442195d6d8c2f770fe24a76ed7ee12e",
     "grade": true,
     "grade_id": "pew-religion-g",
     "locked": false,
     "points": 4,
     "solution": true
    }
   },
   "outputs": [
    {
     "data": {
      "text/plain": [
       "<matplotlib.axes._subplots.AxesSubplot at 0x7efd776049b0>"
      ]
     },
     "execution_count": 21,
     "metadata": {},
     "output_type": "execute_result"
    },
    {
     "data": {
      "image/png": "[encoded data removed]",
      "text/plain": [
       "<matplotlib.figure.Figure at 0x7efd776042b0>"
      ]
     },
     "metadata": {},
     "output_type": "display_data"
    }
   ],
   "source": [
    "sns.countplot(y='religion', data=df)"
   ]
  },
  {
   "cell_type": "markdown",
   "metadata": {},
   "source": [
    "## Income"
   ]
  },
  {
   "cell_type": "markdown",
   "metadata": {},
   "source": [
    "Now work on the `income` column. Replace the existing income strings by the ones in the tests below:"
   ]
  },
  {
   "cell_type": "code",
   "execution_count": 22,
   "metadata": {
    "collapsed": false
   },
   "outputs": [
    {
     "data": {
      "text/plain": [
       "10247          50 to under $75,000\n",
       "30227    Don't know/Refused (VOL.)\n",
       "8316           10 to under $20,000\n",
       "24599          40 to under $50,000\n",
       "24600    Don't know/Refused (VOL.)\n",
       "Name: income, dtype: object"
      ]
     },
     "execution_count": 22,
     "metadata": {},
     "output_type": "execute_result"
    }
   ],
   "source": [
    "df['income'].head()"
   ]
  },
  {
   "cell_type": "code",
   "execution_count": 23,
   "metadata": {
    "collapsed": true
   },
   "outputs": [],
   "source": [
    "df['income'] = df['income'].replace(to_replace='^',value='$', regex=True)"
   ]
  },
  {
   "cell_type": "code",
   "execution_count": 24,
   "metadata": {
    "collapsed": false,
    "deletable": false,
    "nbgrader": {
     "checksum": "6e1ea42bf3d5157527f1727f8058b619",
     "grade": false,
     "grade_id": "pew-religion-h",
     "locked": false,
     "solution": true
    }
   },
   "outputs": [],
   "source": [
    "df['income'] = df['income'].replace(to_replace=' to under \\$',value='-', regex=True)"
   ]
  },
  {
   "cell_type": "code",
   "execution_count": 25,
   "metadata": {
    "collapsed": true
   },
   "outputs": [],
   "source": [
    "df['income'] = df['income'].replace(to_replace='\\$Less than ',value='<', regex=True)"
   ]
  },
  {
   "cell_type": "code",
   "execution_count": 26,
   "metadata": {
    "collapsed": true
   },
   "outputs": [],
   "source": [
    "df['income'] = df['income'].replace(to_replace='^\\$\\$150,000 or more',value='>150,000', regex=True)"
   ]
  },
  {
   "cell_type": "code",
   "execution_count": 27,
   "metadata": {
    "collapsed": true
   },
   "outputs": [],
   "source": [
    "df['income'] = df['income'].replace(to_replace=',000',value='k', regex=True)"
   ]
  },
  {
   "cell_type": "code",
   "execution_count": 28,
   "metadata": {
    "collapsed": true
   },
   "outputs": [],
   "source": [
    "df['income'] = df['income'].str.replace('^.*?\\)','Unknown')"
   ]
  },
  {
   "cell_type": "code",
   "execution_count": 29,
   "metadata": {
    "collapsed": false
   },
   "outputs": [],
   "source": [
    "df=df.sort_index()"
   ]
  },
  {
   "cell_type": "code",
   "execution_count": 30,
   "metadata": {
    "collapsed": false
   },
   "outputs": [
    {
     "data": {
      "text/plain": [
       "['$75-100k',\n",
       " '$20-30k',\n",
       " '$30-40k',\n",
       " '<$10k',\n",
       " '$50-75k',\n",
       " '>150k',\n",
       " '$40-50k',\n",
       " 'Unknown',\n",
       " '$100-150k',\n",
       " '$10-20k']"
      ]
     },
     "execution_count": 30,
     "metadata": {},
     "output_type": "execute_result"
    }
   ],
   "source": [
    "list(df.income.unique())"
   ]
  },
  {
   "cell_type": "code",
   "execution_count": 31,
   "metadata": {
    "collapsed": false,
    "deletable": false,
    "nbgrader": {
     "checksum": "838347b898b9ffe5e0d14067cb4cb421",
     "grade": true,
     "grade_id": "pew-religion-i",
     "locked": true,
     "points": 2,
     "solution": false
    }
   },
   "outputs": [],
   "source": [
    "assert list(df.income.unique())==\\\n",
    "    ['$75-100k',\n",
    "     '$20-30k',\n",
    "     '$30-40k',\n",
    "     '<$10k',\n",
    "     '$50-75k',\n",
    "     '>150k',\n",
    "     '$40-50k',\n",
    "     'Unknown',\n",
    "     '$100-150k',\n",
    "     '$10-20k']"
   ]
  },
  {
   "cell_type": "markdown",
   "metadata": {},
   "source": [
    "Convert the `income` column to a category type:"
   ]
  },
  {
   "cell_type": "code",
   "execution_count": 32,
   "metadata": {
    "collapsed": true,
    "deletable": false,
    "nbgrader": {
     "checksum": "85c1b5ca570925cc7816d56b8d60c2f4",
     "grade": false,
     "grade_id": "pew-religion-j",
     "locked": false,
     "solution": true
    }
   },
   "outputs": [],
   "source": [
    "df['income']=df['income'].astype('category')"
   ]
  },
  {
   "cell_type": "code",
   "execution_count": 33,
   "metadata": {
    "collapsed": false,
    "deletable": false,
    "nbgrader": {
     "checksum": "c1daff116da9833e92bc3d412dfb7281",
     "grade": true,
     "grade_id": "pew-religion-k",
     "locked": true,
     "points": 2,
     "solution": false
    }
   },
   "outputs": [],
   "source": [
    "assert df.income.dtype.name=='category'"
   ]
  },
  {
   "cell_type": "markdown",
   "metadata": {},
   "source": [
    "Mow make an approprately labeled `countplot` of the `income` column, ordered by the income level:"
   ]
  },
  {
   "cell_type": "code",
   "execution_count": 34,
   "metadata": {
    "collapsed": false
   },
   "outputs": [],
   "source": [
    "df = df.sort_values('income')"
   ]
  },
  {
   "cell_type": "code",
   "execution_count": 35,
   "metadata": {
    "collapsed": false,
    "deletable": false,
    "nbgrader": {
     "checksum": "9a61d7655e7296507b1ef4879de8d92c",
     "grade": true,
     "grade_id": "pew-religion-l",
     "locked": false,
     "points": 4,
     "solution": true
    }
   },
   "outputs": [
    {
     "data": {
      "text/plain": [
       "<matplotlib.axes._subplots.AxesSubplot at 0x7efd76ede080>"
      ]
     },
     "execution_count": 35,
     "metadata": {},
     "output_type": "execute_result"
    },
    {
     "data": {
      "image/png": "[encoded data removed]",
      "text/plain": [
       "<matplotlib.figure.Figure at 0x7efd77a8be80>"
      ]
     },
     "metadata": {},
     "output_type": "display_data"
    }
   ],
   "source": [
    "sns.countplot(y='income',data=df)"
   ]
  },
  {
   "cell_type": "markdown",
   "metadata": {},
   "source": [
    "## Simple Analysis"
   ]
  },
  {
   "cell_type": "markdown",
   "metadata": {},
   "source": [
    "Using a `groupby` and custom aggregation do the following:\n",
    "\n",
    "* Extract rows where the income is not `'Unknown'`\n",
    "* Compute the most commonly occuring income category for each religion (mode)\n",
    "* Sort the result by the mode income\n",
    "* Store the result in a single-column `DataFrame` with an index that is the religion and a column name of `mode_income`"
   ]
  },
  {
   "cell_type": "code",
   "execution_count": 36,
   "metadata": {
    "collapsed": false
   },
   "outputs": [],
   "source": [
    "df = df[df['income'] !='Unknown']"
   ]
  },
  {
   "cell_type": "code",
   "execution_count": 37,
   "metadata": {
    "collapsed": false
   },
   "outputs": [],
   "source": [
    "df = df.groupby('religion')['income'].value_counts()"
   ]
  },
  {
   "cell_type": "code",
   "execution_count": 38,
   "metadata": {
    "collapsed": false
   },
   "outputs": [
    {
     "data": {
      "text/plain": [
       "('Evangelical Prot', '$50-75k')"
      ]
     },
     "execution_count": 38,
     "metadata": {},
     "output_type": "execute_result"
    }
   ],
   "source": [
    "df.idxmax()"
   ]
  },
  {
   "cell_type": "code",
   "execution_count": null,
   "metadata": {
    "collapsed": false,
    "deletable": false,
    "nbgrader": {
     "checksum": "008399c4db4579dd716a76eb63d83a44",
     "grade": true,
     "grade_id": "pew-religion-m",
     "locked": false,
     "points": 2,
     "solution": true
    }
   },
   "outputs": [],
   "source": []
  },
  {
   "cell_type": "code",
   "execution_count": 41,
   "metadata": {
    "collapsed": false
   },
   "outputs": [],
   "source": [
    "df = pd.DataFrame(df)"
   ]
  },
  {
   "cell_type": "code",
   "execution_count": 43,
   "metadata": {
    "collapsed": false
   },
   "outputs": [],
   "source": [
    "df.columns=['mode_income']"
   ]
  },
  {
   "cell_type": "code",
   "execution_count": 44,
   "metadata": {
    "collapsed": false
   },
   "outputs": [
    {
     "data": {
      "text/html": [
       "<div>\n",
       "<table border=\"1\" class=\"dataframe\">\n",
       "  <thead>\n",
       "    <tr style=\"text-align: right;\">\n",
       "      <th></th>\n",
       "      <th></th>\n",
       "      <th>mode_income</th>\n",
       "    </tr>\n",
       "    <tr>\n",
       "      <th>religion</th>\n",
       "      <th>income</th>\n",
       "      <th></th>\n",
       "    </tr>\n",
       "  </thead>\n",
       "  <tbody>\n",
       "    <tr>\n",
       "      <th rowspan=\"9\" valign=\"top\">Agnostic</th>\n",
       "      <th>$50-75k</th>\n",
       "      <td>137</td>\n",
       "    </tr>\n",
       "    <tr>\n",
       "      <th>$75-100k</th>\n",
       "      <td>122</td>\n",
       "    </tr>\n",
       "    <tr>\n",
       "      <th>$100-150k</th>\n",
       "      <td>109</td>\n",
       "    </tr>\n",
       "    <tr>\n",
       "      <th>&gt;150k</th>\n",
       "      <td>84</td>\n",
       "    </tr>\n",
       "    <tr>\n",
       "      <th>$30-40k</th>\n",
       "      <td>81</td>\n",
       "    </tr>\n",
       "    <tr>\n",
       "      <th>$40-50k</th>\n",
       "      <td>76</td>\n",
       "    </tr>\n",
       "    <tr>\n",
       "      <th>$20-30k</th>\n",
       "      <td>60</td>\n",
       "    </tr>\n",
       "    <tr>\n",
       "      <th>$10-20k</th>\n",
       "      <td>34</td>\n",
       "    </tr>\n",
       "    <tr>\n",
       "      <th>&lt;$10k</th>\n",
       "      <td>27</td>\n",
       "    </tr>\n",
       "    <tr>\n",
       "      <th rowspan=\"9\" valign=\"top\">Atheist</th>\n",
       "      <th>&gt;150k</th>\n",
       "      <td>74</td>\n",
       "    </tr>\n",
       "    <tr>\n",
       "      <th>$75-100k</th>\n",
       "      <td>73</td>\n",
       "    </tr>\n",
       "    <tr>\n",
       "      <th>$50-75k</th>\n",
       "      <td>70</td>\n",
       "    </tr>\n",
       "    <tr>\n",
       "      <th>$100-150k</th>\n",
       "      <td>59</td>\n",
       "    </tr>\n",
       "    <tr>\n",
       "      <th>$30-40k</th>\n",
       "      <td>52</td>\n",
       "    </tr>\n",
       "    <tr>\n",
       "      <th>$20-30k</th>\n",
       "      <td>37</td>\n",
       "    </tr>\n",
       "    <tr>\n",
       "      <th>$40-50k</th>\n",
       "      <td>35</td>\n",
       "    </tr>\n",
       "    <tr>\n",
       "      <th>$10-20k</th>\n",
       "      <td>27</td>\n",
       "    </tr>\n",
       "    <tr>\n",
       "      <th>&lt;$10k</th>\n",
       "      <td>12</td>\n",
       "    </tr>\n",
       "    <tr>\n",
       "      <th rowspan=\"9\" valign=\"top\">Buddhist</th>\n",
       "      <th>$75-100k</th>\n",
       "      <td>62</td>\n",
       "    </tr>\n",
       "    <tr>\n",
       "      <th>$50-75k</th>\n",
       "      <td>58</td>\n",
       "    </tr>\n",
       "    <tr>\n",
       "      <th>&gt;150k</th>\n",
       "      <td>53</td>\n",
       "    </tr>\n",
       "    <tr>\n",
       "      <th>$100-150k</th>\n",
       "      <td>39</td>\n",
       "    </tr>\n",
       "    <tr>\n",
       "      <th>$30-40k</th>\n",
       "      <td>34</td>\n",
       "    </tr>\n",
       "    <tr>\n",
       "      <th>$40-50k</th>\n",
       "      <td>33</td>\n",
       "    </tr>\n",
       "    <tr>\n",
       "      <th>$20-30k</th>\n",
       "      <td>30</td>\n",
       "    </tr>\n",
       "    <tr>\n",
       "      <th>&lt;$10k</th>\n",
       "      <td>27</td>\n",
       "    </tr>\n",
       "    <tr>\n",
       "      <th>$10-20k</th>\n",
       "      <td>21</td>\n",
       "    </tr>\n",
       "    <tr>\n",
       "      <th rowspan=\"3\" valign=\"top\">Catholic</th>\n",
       "      <th>$50-75k</th>\n",
       "      <td>1116</td>\n",
       "    </tr>\n",
       "    <tr>\n",
       "      <th>$75-100k</th>\n",
       "      <td>949</td>\n",
       "    </tr>\n",
       "    <tr>\n",
       "      <th>$100-150k</th>\n",
       "      <td>792</td>\n",
       "    </tr>\n",
       "    <tr>\n",
       "      <th>...</th>\n",
       "      <th>...</th>\n",
       "      <td>...</td>\n",
       "    </tr>\n",
       "    <tr>\n",
       "      <th rowspan=\"3\" valign=\"top\">Other Faiths</th>\n",
       "      <th>$20-30k</th>\n",
       "      <td>40</td>\n",
       "    </tr>\n",
       "    <tr>\n",
       "      <th>$10-20k</th>\n",
       "      <td>33</td>\n",
       "    </tr>\n",
       "    <tr>\n",
       "      <th>&lt;$10k</th>\n",
       "      <td>20</td>\n",
       "    </tr>\n",
       "    <tr>\n",
       "      <th rowspan=\"9\" valign=\"top\">Other World Religions</th>\n",
       "      <th>$50-75k</th>\n",
       "      <td>7</td>\n",
       "    </tr>\n",
       "    <tr>\n",
       "      <th>&lt;$10k</th>\n",
       "      <td>5</td>\n",
       "    </tr>\n",
       "    <tr>\n",
       "      <th>$100-150k</th>\n",
       "      <td>4</td>\n",
       "    </tr>\n",
       "    <tr>\n",
       "      <th>$30-40k</th>\n",
       "      <td>4</td>\n",
       "    </tr>\n",
       "    <tr>\n",
       "      <th>&gt;150k</th>\n",
       "      <td>4</td>\n",
       "    </tr>\n",
       "    <tr>\n",
       "      <th>$20-30k</th>\n",
       "      <td>3</td>\n",
       "    </tr>\n",
       "    <tr>\n",
       "      <th>$75-100k</th>\n",
       "      <td>3</td>\n",
       "    </tr>\n",
       "    <tr>\n",
       "      <th>$10-20k</th>\n",
       "      <td>2</td>\n",
       "    </tr>\n",
       "    <tr>\n",
       "      <th>$40-50k</th>\n",
       "      <td>2</td>\n",
       "    </tr>\n",
       "    <tr>\n",
       "      <th rowspan=\"9\" valign=\"top\">Unaffiliated</th>\n",
       "      <th>$50-75k</th>\n",
       "      <td>528</td>\n",
       "    </tr>\n",
       "    <tr>\n",
       "      <th>$75-100k</th>\n",
       "      <td>407</td>\n",
       "    </tr>\n",
       "    <tr>\n",
       "      <th>$20-30k</th>\n",
       "      <td>374</td>\n",
       "    </tr>\n",
       "    <tr>\n",
       "      <th>$30-40k</th>\n",
       "      <td>365</td>\n",
       "    </tr>\n",
       "    <tr>\n",
       "      <th>$40-50k</th>\n",
       "      <td>341</td>\n",
       "    </tr>\n",
       "    <tr>\n",
       "      <th>$100-150k</th>\n",
       "      <td>321</td>\n",
       "    </tr>\n",
       "    <tr>\n",
       "      <th>$10-20k</th>\n",
       "      <td>299</td>\n",
       "    </tr>\n",
       "    <tr>\n",
       "      <th>&gt;150k</th>\n",
       "      <td>258</td>\n",
       "    </tr>\n",
       "    <tr>\n",
       "      <th>&lt;$10k</th>\n",
       "      <td>217</td>\n",
       "    </tr>\n",
       "    <tr>\n",
       "      <th rowspan=\"9\" valign=\"top\">Unknown</th>\n",
       "      <th>$50-75k</th>\n",
       "      <td>35</td>\n",
       "    </tr>\n",
       "    <tr>\n",
       "      <th>$75-100k</th>\n",
       "      <td>21</td>\n",
       "    </tr>\n",
       "    <tr>\n",
       "      <th>&gt;150k</th>\n",
       "      <td>18</td>\n",
       "    </tr>\n",
       "    <tr>\n",
       "      <th>$100-150k</th>\n",
       "      <td>17</td>\n",
       "    </tr>\n",
       "    <tr>\n",
       "      <th>$20-30k</th>\n",
       "      <td>15</td>\n",
       "    </tr>\n",
       "    <tr>\n",
       "      <th>&lt;$10k</th>\n",
       "      <td>15</td>\n",
       "    </tr>\n",
       "    <tr>\n",
       "      <th>$10-20k</th>\n",
       "      <td>14</td>\n",
       "    </tr>\n",
       "    <tr>\n",
       "      <th>$30-40k</th>\n",
       "      <td>11</td>\n",
       "    </tr>\n",
       "    <tr>\n",
       "      <th>$40-50k</th>\n",
       "      <td>10</td>\n",
       "    </tr>\n",
       "  </tbody>\n",
       "</table>\n",
       "<p>162 rows × 1 columns</p>\n",
       "</div>"
      ],
      "text/plain": [
       "                                 mode_income\n",
       "religion              income                \n",
       "Agnostic              $50-75k            137\n",
       "                      $75-100k           122\n",
       "                      $100-150k          109\n",
       "                      >150k               84\n",
       "                      $30-40k             81\n",
       "                      $40-50k             76\n",
       "                      $20-30k             60\n",
       "                      $10-20k             34\n",
       "                      <$10k               27\n",
       "Atheist               >150k               74\n",
       "                      $75-100k            73\n",
       "                      $50-75k             70\n",
       "                      $100-150k           59\n",
       "                      $30-40k             52\n",
       "                      $20-30k             37\n",
       "                      $40-50k             35\n",
       "                      $10-20k             27\n",
       "                      <$10k               12\n",
       "Buddhist              $75-100k            62\n",
       "                      $50-75k             58\n",
       "                      >150k               53\n",
       "                      $100-150k           39\n",
       "                      $30-40k             34\n",
       "                      $40-50k             33\n",
       "                      $20-30k             30\n",
       "                      <$10k               27\n",
       "                      $10-20k             21\n",
       "Catholic              $50-75k           1116\n",
       "                      $75-100k           949\n",
       "                      $100-150k          792\n",
       "...                                      ...\n",
       "Other Faiths          $20-30k             40\n",
       "                      $10-20k             33\n",
       "                      <$10k               20\n",
       "Other World Religions $50-75k              7\n",
       "                      <$10k                5\n",
       "                      $100-150k            4\n",
       "                      $30-40k              4\n",
       "                      >150k                4\n",
       "                      $20-30k              3\n",
       "                      $75-100k             3\n",
       "                      $10-20k              2\n",
       "                      $40-50k              2\n",
       "Unaffiliated          $50-75k            528\n",
       "                      $75-100k           407\n",
       "                      $20-30k            374\n",
       "                      $30-40k            365\n",
       "                      $40-50k            341\n",
       "                      $100-150k          321\n",
       "                      $10-20k            299\n",
       "                      >150k              258\n",
       "                      <$10k              217\n",
       "Unknown               $50-75k             35\n",
       "                      $75-100k            21\n",
       "                      >150k               18\n",
       "                      $100-150k           17\n",
       "                      $20-30k             15\n",
       "                      <$10k               15\n",
       "                      $10-20k             14\n",
       "                      $30-40k             11\n",
       "                      $40-50k             10\n",
       "\n",
       "[162 rows x 1 columns]"
      ]
     },
     "execution_count": 44,
     "metadata": {},
     "output_type": "execute_result"
    }
   ],
   "source": [
    "df"
   ]
  },
  {
   "cell_type": "code",
   "execution_count": null,
   "metadata": {
    "collapsed": true
   },
   "outputs": [],
   "source": []
  }
 ],
 "metadata": {
  "kernelspec": {
   "display_name": "Python 3",
   "language": "python",
   "name": "python3"
  },
  "language_info": {
   "codemirror_mode": {
    "name": "ipython",
    "version": 3
   },
   "file_extension": ".py",
   "mimetype": "text/x-python",
   "name": "python",
   "nbconvert_exporter": "python",
   "pygments_lexer": "ipython3",
   "version": "3.4.3"
  }
 },
 "nbformat": 4,
 "nbformat_minor": 0
}
