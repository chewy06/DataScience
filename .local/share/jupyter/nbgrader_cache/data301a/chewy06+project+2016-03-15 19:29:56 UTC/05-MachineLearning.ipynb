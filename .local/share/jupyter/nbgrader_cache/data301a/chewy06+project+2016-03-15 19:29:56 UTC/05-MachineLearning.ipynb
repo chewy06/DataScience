{
 "cells": [
  {
   "cell_type": "code",
   "execution_count": 1,
   "metadata": {
    "collapsed": true
   },
   "outputs": [],
   "source": [
    "%matplotlib inline\n",
    "import matplotlib.pyplot as plt\n",
    "import seaborn as sns\n",
    "\n",
    "import numpy as np\n",
    "import pandas as pd\n",
    "import os\n",
    "\n",
    "import types\n",
    "from itertools import islice\n",
    "import random"
   ]
  },
  {
   "cell_type": "markdown",
   "metadata": {},
   "source": [
    "## Machine Learning"
   ]
  },
  {
   "cell_type": "markdown",
   "metadata": {},
   "source": [
    "Hillary Clinton Dataset."
   ]
  },
  {
   "cell_type": "code",
   "execution_count": 2,
   "metadata": {
    "collapsed": true
   },
   "outputs": [],
   "source": [
    "emails=pd.read_csv('/data/chewy06/output/Emails.csv', index_col='Id')\n",
    "FOIA=pd.read_csv('/data/chewy06/output/EmailFOIA.csv', index_col='Id')\n",
    "Extracted=pd.read_csv('/data/chewy06/output/EmailExtracted.csv', index_col='Id')\n",
    "persons=pd.read_csv('/data/chewy06/output/Persons.csv', index_col='Id')\n",
    "alias=pd.read_csv('/data/chewy06/output/Aliases.csv', index_col='Id')\n",
    "recipians=pd.read_csv('/data/chewy06/output/EmailReceivers.csv', index_col='Id')"
   ]
  },
  {
   "cell_type": "code",
   "execution_count": null,
   "metadata": {
    "collapsed": false,
    "scrolled": true
   },
   "outputs": [],
   "source": []
  },
  {
   "cell_type": "markdown",
   "metadata": {},
   "source": [
    "Loading top emial receivers. CSV created in previous notebooks. "
   ]
  },
  {
   "cell_type": "code",
   "execution_count": 3,
   "metadata": {
    "collapsed": true
   },
   "outputs": [],
   "source": [
    "topEmailContributers=pd.read_csv('/data/chewy06/output/orderNames.csv', index_col='Id')"
   ]
  },
  {
   "cell_type": "code",
   "execution_count": 4,
   "metadata": {
    "collapsed": false
   },
   "outputs": [
    {
     "data": {
      "text/html": [
       "<div>\n",
       "<table border=\"1\" class=\"dataframe\">\n",
       "  <thead>\n",
       "    <tr style=\"text-align: right;\">\n",
       "      <th></th>\n",
       "      <th>count</th>\n",
       "      <th>Person Id</th>\n",
       "      <th>Name</th>\n",
       "    </tr>\n",
       "    <tr>\n",
       "      <th>Id</th>\n",
       "      <th></th>\n",
       "      <th></th>\n",
       "      <th></th>\n",
       "    </tr>\n",
       "  </thead>\n",
       "  <tbody>\n",
       "    <tr>\n",
       "      <th>9306</th>\n",
       "      <td>5587</td>\n",
       "      <td>80</td>\n",
       "      <td>Hillary Clinton</td>\n",
       "    </tr>\n",
       "    <tr>\n",
       "      <th>9239</th>\n",
       "      <td>720</td>\n",
       "      <td>81</td>\n",
       "      <td>Huma Abedin</td>\n",
       "    </tr>\n",
       "    <tr>\n",
       "      <th>9267</th>\n",
       "      <td>484</td>\n",
       "      <td>87</td>\n",
       "      <td>Jake Sullivan</td>\n",
       "    </tr>\n",
       "    <tr>\n",
       "      <th>9171</th>\n",
       "      <td>454</td>\n",
       "      <td>32</td>\n",
       "      <td>Cheryl Mills</td>\n",
       "    </tr>\n",
       "    <tr>\n",
       "      <th>9180</th>\n",
       "      <td>267</td>\n",
       "      <td>116</td>\n",
       "      <td>Lauren Jiloty</td>\n",
       "    </tr>\n",
       "    <tr>\n",
       "      <th>9280</th>\n",
       "      <td>169</td>\n",
       "      <td>272</td>\n",
       "      <td>valmorou@state.gov</td>\n",
       "    </tr>\n",
       "    <tr>\n",
       "      <th>9169</th>\n",
       "      <td>168</td>\n",
       "      <td>124</td>\n",
       "      <td>Lona Valmoro</td>\n",
       "    </tr>\n",
       "    <tr>\n",
       "      <th>9155</th>\n",
       "      <td>116</td>\n",
       "      <td>170</td>\n",
       "      <td>Philippe Reines</td>\n",
       "    </tr>\n",
       "    <tr>\n",
       "      <th>8858</th>\n",
       "      <td>54</td>\n",
       "      <td>256</td>\n",
       "      <td>millscd@state.gov.</td>\n",
       "    </tr>\n",
       "    <tr>\n",
       "      <th>9163</th>\n",
       "      <td>51</td>\n",
       "      <td>194</td>\n",
       "      <td>Sidney Blumenthal</td>\n",
       "    </tr>\n",
       "  </tbody>\n",
       "</table>\n",
       "</div>"
      ],
      "text/plain": [
       "      count  Person Id                Name\n",
       "Id                                        \n",
       "9306   5587         80     Hillary Clinton\n",
       "9239    720         81         Huma Abedin\n",
       "9267    484         87       Jake Sullivan\n",
       "9171    454         32        Cheryl Mills\n",
       "9180    267        116       Lauren Jiloty\n",
       "9280    169        272  valmorou@state.gov\n",
       "9169    168        124        Lona Valmoro\n",
       "9155    116        170     Philippe Reines\n",
       "8858     54        256  millscd@state.gov.\n",
       "9163     51        194   Sidney Blumenthal"
      ]
     },
     "execution_count": 4,
     "metadata": {},
     "output_type": "execute_result"
    }
   ],
   "source": [
    "topEmailContributers[:10]"
   ]
  },
  {
   "cell_type": "markdown",
   "metadata": {},
   "source": [
    "Created new dataset based on the name of person that sent the email. "
   ]
  },
  {
   "cell_type": "code",
   "execution_count": 5,
   "metadata": {
    "collapsed": false
   },
   "outputs": [],
   "source": [
    "mergeWithPersonName=pd.merge(emails,persons,right_index=True,left_on=['SenderPersonId'])"
   ]
  },
  {
   "cell_type": "markdown",
   "metadata": {},
   "source": [
    "Function to create files of emials by especific person. "
   ]
  },
  {
   "cell_type": "code",
   "execution_count": 6,
   "metadata": {
    "collapsed": false
   },
   "outputs": [],
   "source": [
    "def createFile(fileName,data):\n",
    "    with open(fileName, 'w') as f:\n",
    "        for text in data['RawText']:\n",
    "            f.write(text.replace('\\r\\n', '\\n'))\n",
    "            f.write('\\n')\n",
    "    "
   ]
  },
  {
   "cell_type": "code",
   "execution_count": 7,
   "metadata": {
    "collapsed": false
   },
   "outputs": [],
   "source": [
    "for name in topEmailContributers[:10]['Name']:\n",
    "    data=mergeWithPersonName[mergeWithPersonName.Name==name]\n",
    "    createFile(name+'.txt',data)"
   ]
  },
  {
   "cell_type": "code",
   "execution_count": null,
   "metadata": {
    "collapsed": true
   },
   "outputs": [],
   "source": []
  },
  {
   "cell_type": "code",
   "execution_count": 24,
   "metadata": {
    "collapsed": false
   },
   "outputs": [
    {
     "name": "stdout",
     "output_type": "stream",
     "text": [
      "Hillary Clinton :  0    b6\\nunclassified\\nu.s.\n",
      "1                department\n",
      "2                        of\n",
      "3               state\\ncase\n",
      "4                       no.\n",
      "5         f-2015-04841\\ndoc\n",
      "6                       no.\n",
      "7          c05739554\\ndate:\n",
      "8         05/13/2015\\nstate\n",
      "9                     dept.\n",
      "Name: Hillary Clinton, dtype: object\n",
      "Huma Abedin :  0    b5\\nunclassified\\nu.s.\n",
      "1                department\n",
      "2                        of\n",
      "3               state\\ncase\n",
      "4                       no.\n",
      "5         f-2015-04841\\ndoc\n",
      "6                       no.\n",
      "7          c05739591\\ndate:\n",
      "8         05/13/2015\\nstate\n",
      "9                     dept.\n",
      "Name: Huma Abedin, dtype: object\n"
     ]
    }
   ],
   "source": [
    "for name in topEmailContributers[:2]['Name']:\n",
    "    with open(name+'.txt', 'r') as f:\n",
    "        temp=f.read()\n",
    "    temp=pd.Series(temp.lower().split(' '))\n",
    "    words=pd.DataFrame({name:temp,\n",
    "                        'id': pd.Series(range(temp.size))})\n",
    "    words.index_col='id'\n",
    "    print(name,': ', words[:10][name])"
   ]
  },
  {
   "cell_type": "code",
   "execution_count": null,
   "metadata": {
    "collapsed": false
   },
   "outputs": [],
   "source": []
  }
 ],
 "metadata": {
  "kernelspec": {
   "display_name": "Python 3",
   "language": "python",
   "name": "python3"
  },
  "language_info": {
   "codemirror_mode": {
    "name": "ipython",
    "version": 3
   },
   "file_extension": ".py",
   "mimetype": "text/x-python",
   "name": "python",
   "nbconvert_exporter": "python",
   "pygments_lexer": "ipython3",
   "version": "3.4.3"
  }
 },
 "nbformat": 4,
 "nbformat_minor": 0
}
