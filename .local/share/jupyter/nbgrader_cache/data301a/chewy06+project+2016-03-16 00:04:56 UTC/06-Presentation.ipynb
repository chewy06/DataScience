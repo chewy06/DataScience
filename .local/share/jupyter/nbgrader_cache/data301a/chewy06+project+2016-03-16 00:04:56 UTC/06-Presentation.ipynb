{
 "cells": [
  {
   "cell_type": "code",
   "execution_count": 1,
   "metadata": {
    "collapsed": true
   },
   "outputs": [],
   "source": [
    "%matplotlib inline\n",
    "import matplotlib.pyplot as plt\n",
    "import seaborn as sns\n",
    "\n",
    "import numpy as np\n",
    "import pandas as pd\n",
    "import os\n",
    "\n",
    "import types\n",
    "from itertools import islice\n",
    "import random"
   ]
  },
  {
   "cell_type": "markdown",
   "metadata": {},
   "source": [
    "# Presentation"
   ]
  },
  {
   "cell_type": "markdown",
   "metadata": {},
   "source": [
    "In 2015 a controversy arose when it became publicaly known that Hillary clinton used family's private emails server for official email conmmunications while she was the United States Secretary of State. Part of the controversy was the deletion of nearly 32,000 email that she deemed private. Nearly 2,100 emails have been marked classified by the state Departmet.Another 65 emails were deemed secret and 22 deemed top secret. \n",
    "* OBJECTIVES\n",
    "    - Dig through the 2,100 emails a create a statical model that can predict classified emails based on the body text. \n",
    "    - Determine the difference between classified email and deemed secret emails."
   ]
  },
  {
   "cell_type": "markdown",
   "metadata": {},
   "source": [
    "## My approach"
   ]
  },
  {
   "cell_type": "markdown",
   "metadata": {},
   "source": [
    "### Deciding on the dataset"
   ]
  },
  {
   "cell_type": "markdown",
   "metadata": {},
   "source": [
    "Fist step I took was determining what data I wanted to work with. Since the presidential campaigns have been getting a lot of attention, I decided to work with the Hillary Clinton email scandal."
   ]
  },
  {
   "cell_type": "markdown",
   "metadata": {},
   "source": [
    "### Finding the dataset"
   ]
  },
  {
   "cell_type": "markdown",
   "metadata": {},
   "source": [
    "Next step was to find the dataset. Kaggle was a great resource because they had nicely broken down csv files. The data contain Metadata that contain additional information of its realese. "
   ]
  },
  {
   "cell_type": "markdown",
   "metadata": {},
   "source": [
    "### Exploring data"
   ]
  },
  {
   "cell_type": "markdown",
   "metadata": {},
   "source": [
    "Exploring the data was interesting because of the conversations and people involved. Based on the information I found about the content of those emails I decided to find a statical model that would distiguish Classified email form regular emails based on the body text."
   ]
  },
  {
   "cell_type": "markdown",
   "metadata": {
    "collapsed": true
   },
   "source": [
    "![Top Email Contributers](persons.png)"
   ]
  },
  {
   "cell_type": "markdown",
   "metadata": {},
   "source": [
    "Here we see the top subject titles. This titles gave a general idea of the conversation Presendent Candidate Hillary Clinton was having. "
   ]
  },
  {
   "cell_type": "markdown",
   "metadata": {},
   "source": [
    "![Top Subject Titles](subject.png)"
   ]
  },
  {
   "cell_type": "markdown",
   "metadata": {},
   "source": [
    "My next step was to find out the content of those emails. To do this I decided to use the Markov chain. The markov chain would allow me to see relationship between emails. Since the most common words within the body text had a higher probability of appearing."
   ]
  },
  {
   "cell_type": "markdown",
   "metadata": {},
   "source": [
    "![Confidential](confidential.png)"
   ]
  },
  {
   "cell_type": "markdown",
   "metadata": {},
   "source": [
    "![RE.png](RE.png)"
   ]
  },
  {
   "cell_type": "markdown",
   "metadata": {},
   "source": [
    "Machine Learning\n",
    "* Supervised Modeling\n",
    "    - Find the relation between the data(bodytext) in order to determine a label for the email.\n",
    "    - Label would have Confidential and Non-Confidential. "
   ]
  },
  {
   "cell_type": "code",
   "execution_count": null,
   "metadata": {
    "collapsed": true
   },
   "outputs": [],
   "source": []
  }
 ],
 "metadata": {
  "kernelspec": {
   "display_name": "Python 3",
   "language": "python",
   "name": "python3"
  },
  "language_info": {
   "codemirror_mode": {
    "name": "ipython",
    "version": 3
   },
   "file_extension": ".py",
   "mimetype": "text/x-python",
   "name": "python",
   "nbconvert_exporter": "python",
   "pygments_lexer": "ipython3",
   "version": "3.4.3"
  }
 },
 "nbformat": 4,
 "nbformat_minor": 0
}
