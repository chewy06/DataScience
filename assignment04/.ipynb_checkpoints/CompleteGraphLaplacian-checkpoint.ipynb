{
 "cells": [
  {
   "cell_type": "markdown",
   "metadata": {
    "nbgrader": {}
   },
   "source": [
    "# Complete graph Laplacian"
   ]
  },
  {
   "cell_type": "markdown",
   "metadata": {
    "nbgrader": {}
   },
   "source": [
    "## Imports"
   ]
  },
  {
   "cell_type": "code",
   "execution_count": 1,
   "metadata": {
    "collapsed": false,
    "nbgrader": {}
   },
   "outputs": [],
   "source": [
    "import numpy as np\n",
    "%matplotlib inline\n",
    "import matplotlib.pyplot as plt"
   ]
  },
  {
   "cell_type": "markdown",
   "metadata": {
    "nbgrader": {}
   },
   "source": [
    "In discrete mathematics a [Graph](http://en.wikipedia.org/wiki/Graph_%28mathematics%29) is a set of *vertices* or *nodes* that are connected to each other by *edges* or *lines*. If those *edges* don't have directionality, the graph is said to be *undirected*. Graphs are used to model social and communications networks (Twitter, Facebook, Internet) as well as natural systems such as molecules.\n",
    "\n",
    "A [Complete Graph](http://en.wikipedia.org/wiki/Complete_graph), $K_n$ on $n$ nodes has an edge that connects each node to every other node.\n",
    "\n",
    "Here is $K_5$:"
   ]
  },
  {
   "cell_type": "code",
   "execution_count": 2,
   "metadata": {
    "collapsed": false,
    "nbgrader": {}
   },
   "outputs": [
    {
     "data": {
      "image/png": "[encoded data removed]",
      "text/plain": [
       "<matplotlib.figure.Figure at 0x7f558a3a5a20>"
      ]
     },
     "metadata": {},
     "output_type": "display_data"
    }
   ],
   "source": [
    "import networkx as nx\n",
    "K_5=nx.complete_graph(5)\n",
    "nx.draw(K_5)"
   ]
  },
  {
   "cell_type": "markdown",
   "metadata": {
    "collapsed": false,
    "nbgrader": {}
   },
   "source": [
    "The [Laplacian Matrix](http://en.wikipedia.org/wiki/Laplacian_matrix) is a matrix that is extremely important in graph theory and numerical analysis. It is defined as $L=D-A$. Where $D$ is the [degree matrix](https://en.wikipedia.org/wiki/Degree_matrix) and $A$ is the [adjecency matrix](https://en.wikipedia.org/wiki/Adjacency_matrix). For the purpose of this problem you don't need to understand the details of these matrices, although their definitions are relatively simple (I encourage you to follow the links above and read about them).\n",
    "\n",
    "The degree matrix for $K_n$ is an $n \\times n$ diagonal matrix with the value $n-1$ along the diagonal and zeros everywhere else. Write a function to compute the degree matrix for $K_n$ using NumPy."
   ]
  },
  {
   "cell_type": "code",
   "execution_count": 3,
   "metadata": {
    "collapsed": false,
    "deletable": false,
    "nbgrader": {
     "checksum": "251bf113f2e9a7b057fb69931255ec80",
     "grade": false,
     "grade_id": "completegrapha",
     "locked": false,
     "solution": true
    }
   },
   "outputs": [],
   "source": [
    "def complete_deg(n):\n",
    "    a=np.zeros((n, n), int)\n",
    "    np.fill_diagonal(a, n-1)\n",
    "    return a    "
   ]
  },
  {
   "cell_type": "code",
   "execution_count": 4,
   "metadata": {
    "collapsed": false,
    "deletable": false,
    "nbgrader": {
     "checksum": "e2225ed17d8b7c0950bbea55d1a169a4",
     "grade": true,
     "grade_id": "completegraphb",
     "points": 3
    }
   },
   "outputs": [],
   "source": [
    "D = complete_deg(5)\n",
    "assert D.shape==(5,5)\n",
    "assert D.dtype==np.dtype(int)\n",
    "assert np.all(D.diagonal()==4*np.ones(5))\n",
    "assert np.all(D-np.diag(D.diagonal())==np.zeros((5,5),dtype=int))"
   ]
  },
  {
   "cell_type": "markdown",
   "metadata": {
    "nbgrader": {}
   },
   "source": [
    "The adjacency matrix for $K_n$ is an $n \\times n$ matrix with zeros along the diagonal and ones everywhere else. Write a function to compute the adjacency matrix for $K_n$ using NumPy."
   ]
  },
  {
   "cell_type": "code",
   "execution_count": 5,
   "metadata": {
    "collapsed": true,
    "deletable": false,
    "nbgrader": {
     "checksum": "a1e20496042084d727b017d8acc7aac4",
     "grade": false,
     "grade_id": "completegraphc",
     "locked": false,
     "solution": true
    }
   },
   "outputs": [],
   "source": [
    "def complete_adj(n):\n",
    "    a=np.zeros((n, n), int)\n",
    "    a.fill(1)\n",
    "    np.fill_diagonal(a, 0)\n",
    "    return a"
   ]
  },
  {
   "cell_type": "code",
   "execution_count": 6,
   "metadata": {
    "collapsed": false
   },
   "outputs": [
    {
     "data": {
      "text/plain": [
       "array([[0, 1, 1, 1, 1],\n",
       "       [1, 0, 1, 1, 1],\n",
       "       [1, 1, 0, 1, 1],\n",
       "       [1, 1, 1, 0, 1],\n",
       "       [1, 1, 1, 1, 0]])"
      ]
     },
     "execution_count": 6,
     "metadata": {},
     "output_type": "execute_result"
    }
   ],
   "source": [
    "a=np.zeros((5, 5), int)\n",
    "a.fill(1)\n",
    "np.fill_diagonal(a, 0)\n",
    "a"
   ]
  },
  {
   "cell_type": "code",
   "execution_count": 7,
   "metadata": {
    "collapsed": false,
    "deletable": false,
    "nbgrader": {
     "checksum": "883e25c80532ae29a76c49682292e1c4",
     "grade": true,
     "grade_id": "completegraphd",
     "points": 3
    }
   },
   "outputs": [],
   "source": [
    "A = complete_adj(5)\n",
    "assert A.shape==(5,5)\n",
    "assert A.dtype==np.dtype(int)\n",
    "assert np.all(A+np.eye(5,dtype=int)==np.ones((5,5),dtype=int))"
   ]
  },
  {
   "cell_type": "markdown",
   "metadata": {
    "nbgrader": {}
   },
   "source": [
    "Use NumPy to explore the eigenvalues or *spectrum* of the Laplacian *L* of $K_n$. What patterns do you notice as $n$ changes? Create a *conjecture* about the general Laplace *spectrum* of $K_n$."
   ]
  },
  {
   "cell_type": "code",
   "execution_count": 35,
   "metadata": {
    "collapsed": false
   },
   "outputs": [
    {
     "name": "stdout",
     "output_type": "stream",
     "text": [
      "[[4 0 0 0 0]\n",
      " [0 4 0 0 0]\n",
      " [0 0 4 0 0]\n",
      " [0 0 0 4 0]\n",
      " [0 0 0 0 4]]\n",
      "[[0 1 1 1 1]\n",
      " [1 0 1 1 1]\n",
      " [1 1 0 1 1]\n",
      " [1 1 1 0 1]\n",
      " [1 1 1 1 0]]\n",
      "[[ 4 -1 -1 -1 -1]\n",
      " [-1  4 -1 -1 -1]\n",
      " [-1 -1  4 -1 -1]\n",
      " [-1 -1 -1  4 -1]\n",
      " [-1 -1 -1 -1  4]]\n",
      "[[5 0 0 0 0 0]\n",
      " [0 5 0 0 0 0]\n",
      " [0 0 5 0 0 0]\n",
      " [0 0 0 5 0 0]\n",
      " [0 0 0 0 5 0]\n",
      " [0 0 0 0 0 5]]\n",
      "[[0 1 1 1 1 1]\n",
      " [1 0 1 1 1 1]\n",
      " [1 1 0 1 1 1]\n",
      " [1 1 1 0 1 1]\n",
      " [1 1 1 1 0 1]\n",
      " [1 1 1 1 1 0]]\n",
      "[[ 5 -1 -1 -1 -1 -1]\n",
      " [-1  5 -1 -1 -1 -1]\n",
      " [-1 -1  5 -1 -1 -1]\n",
      " [-1 -1 -1  5 -1 -1]\n",
      " [-1 -1 -1 -1  5 -1]\n",
      " [-1 -1 -1 -1 -1  5]]\n",
      "[[6 0 0 0 0 0 0]\n",
      " [0 6 0 0 0 0 0]\n",
      " [0 0 6 0 0 0 0]\n",
      " [0 0 0 6 0 0 0]\n",
      " [0 0 0 0 6 0 0]\n",
      " [0 0 0 0 0 6 0]\n",
      " [0 0 0 0 0 0 6]]\n",
      "[[0 1 1 1 1 1 1]\n",
      " [1 0 1 1 1 1 1]\n",
      " [1 1 0 1 1 1 1]\n",
      " [1 1 1 0 1 1 1]\n",
      " [1 1 1 1 0 1 1]\n",
      " [1 1 1 1 1 0 1]\n",
      " [1 1 1 1 1 1 0]]\n",
      "[[ 6 -1 -1 -1 -1 -1 -1]\n",
      " [-1  6 -1 -1 -1 -1 -1]\n",
      " [-1 -1  6 -1 -1 -1 -1]\n",
      " [-1 -1 -1  6 -1 -1 -1]\n",
      " [-1 -1 -1 -1  6 -1 -1]\n",
      " [-1 -1 -1 -1 -1  6 -1]\n",
      " [-1 -1 -1 -1 -1 -1  6]]\n",
      "[[7 0 0 0 0 0 0 0]\n",
      " [0 7 0 0 0 0 0 0]\n",
      " [0 0 7 0 0 0 0 0]\n",
      " [0 0 0 7 0 0 0 0]\n",
      " [0 0 0 0 7 0 0 0]\n",
      " [0 0 0 0 0 7 0 0]\n",
      " [0 0 0 0 0 0 7 0]\n",
      " [0 0 0 0 0 0 0 7]]\n",
      "[[0 1 1 1 1 1 1 1]\n",
      " [1 0 1 1 1 1 1 1]\n",
      " [1 1 0 1 1 1 1 1]\n",
      " [1 1 1 0 1 1 1 1]\n",
      " [1 1 1 1 0 1 1 1]\n",
      " [1 1 1 1 1 0 1 1]\n",
      " [1 1 1 1 1 1 0 1]\n",
      " [1 1 1 1 1 1 1 0]]\n",
      "[[ 7 -1 -1 -1 -1 -1 -1 -1]\n",
      " [-1  7 -1 -1 -1 -1 -1 -1]\n",
      " [-1 -1  7 -1 -1 -1 -1 -1]\n",
      " [-1 -1 -1  7 -1 -1 -1 -1]\n",
      " [-1 -1 -1 -1  7 -1 -1 -1]\n",
      " [-1 -1 -1 -1 -1  7 -1 -1]\n",
      " [-1 -1 -1 -1 -1 -1  7 -1]\n",
      " [-1 -1 -1 -1 -1 -1 -1  7]]\n",
      "[[8 0 0 0 0 0 0 0 0]\n",
      " [0 8 0 0 0 0 0 0 0]\n",
      " [0 0 8 0 0 0 0 0 0]\n",
      " [0 0 0 8 0 0 0 0 0]\n",
      " [0 0 0 0 8 0 0 0 0]\n",
      " [0 0 0 0 0 8 0 0 0]\n",
      " [0 0 0 0 0 0 8 0 0]\n",
      " [0 0 0 0 0 0 0 8 0]\n",
      " [0 0 0 0 0 0 0 0 8]]\n",
      "[[0 1 1 1 1 1 1 1 1]\n",
      " [1 0 1 1 1 1 1 1 1]\n",
      " [1 1 0 1 1 1 1 1 1]\n",
      " [1 1 1 0 1 1 1 1 1]\n",
      " [1 1 1 1 0 1 1 1 1]\n",
      " [1 1 1 1 1 0 1 1 1]\n",
      " [1 1 1 1 1 1 0 1 1]\n",
      " [1 1 1 1 1 1 1 0 1]\n",
      " [1 1 1 1 1 1 1 1 0]]\n",
      "[[ 8 -1 -1 -1 -1 -1 -1 -1 -1]\n",
      " [-1  8 -1 -1 -1 -1 -1 -1 -1]\n",
      " [-1 -1  8 -1 -1 -1 -1 -1 -1]\n",
      " [-1 -1 -1  8 -1 -1 -1 -1 -1]\n",
      " [-1 -1 -1 -1  8 -1 -1 -1 -1]\n",
      " [-1 -1 -1 -1 -1  8 -1 -1 -1]\n",
      " [-1 -1 -1 -1 -1 -1  8 -1 -1]\n",
      " [-1 -1 -1 -1 -1 -1 -1  8 -1]\n",
      " [-1 -1 -1 -1 -1 -1 -1 -1  8]]\n"
     ]
    }
   ],
   "source": [
    "def laplacian(n):\n",
    "    return complete_deg(n)-complete_adj(n)\n",
    "\n",
    "for i in range(5,10):\n",
    "    print(complete_deg(i))\n",
    "    print(complete_adj(i))\n",
    "    print(laplacian(i))"
   ]
  },
  {
   "cell_type": "code",
   "execution_count": 29,
   "metadata": {
    "collapsed": false
   },
   "outputs": [
    {
     "data": {
      "image/png": "[encoded data removed]",
      "text/plain": [
       "<matplotlib.figure.Figure at 0x7f55817fc1d0>"
      ]
     },
     "metadata": {},
     "output_type": "display_data"
    },
    {
     "data": {
      "image/png": "[encoded data removed]",
      "text/plain": [
       "<matplotlib.figure.Figure at 0x7f558190fb70>"
      ]
     },
     "metadata": {},
     "output_type": "display_data"
    },
    {
     "data": {
      "image/png": "[encoded data removed]",
      "text/plain": [
       "<matplotlib.figure.Figure at 0x7f55816ec908>"
      ]
     },
     "metadata": {},
     "output_type": "display_data"
    },
    {
     "data": {
      "image/png": "[encoded data removed]",
      "text/plain": [
       "<matplotlib.figure.Figure at 0x7f55816cccc0>"
      ]
     },
     "metadata": {},
     "output_type": "display_data"
    },
    {
     "data": {
      "image/png": "[encoded data removed]",
      "text/plain": [
       "<matplotlib.figure.Figure at 0x7f55818bd438>"
      ]
     },
     "metadata": {},
     "output_type": "display_data"
    }
   ],
   "source": [
    "l = []\n",
    "for i in range(5,10):\n",
    "    plt.plot(laplacian(i), laplacian(i))\n",
    "    plt.show()\n"
   ]
  },
  {
   "cell_type": "code",
   "execution_count": 31,
   "metadata": {
    "collapsed": false,
    "deletable": false,
    "nbgrader": {
     "checksum": "5ca9adcbecfdbb7e14b0f227f5de7343",
     "grade": true,
     "grade_id": "completegraphe",
     "locked": false,
     "points": 2,
     "solution": true
    }
   },
   "outputs": [],
   "source": [
    "One of the noticeble features is that produces a linear progression. \n",
    "Based on the progression line we notice the min will always be -1 while the \n",
    "max is always K_n. The matrix have a positive diagonal line while the remaining\n",
    "number become negative. "
   ]
  },
  {
   "cell_type": "markdown",
   "metadata": {},
   "source": [
    "In a few sentences, propose a *conjecture* about the general Laplace *spectrum* of $K_n$:"
   ]
  },
  {
   "cell_type": "markdown",
   "metadata": {
    "collapsed": true,
    "deletable": false,
    "nbgrader": {
     "checksum": "2e4d948885370eb420b28323df184497",
     "grade": true,
     "grade_id": "completegraphf",
     "points": 2,
     "solution": true
    }
   },
   "source": [
    "YOUR ANSWER HERE"
   ]
  }
 ],
 "metadata": {
  "kernelspec": {
   "display_name": "Python 3",
   "language": "python",
   "name": "python3"
  },
  "language_info": {
   "codemirror_mode": {
    "name": "ipython",
    "version": 3
   },
   "file_extension": ".py",
   "mimetype": "text/x-python",
   "name": "python",
   "nbconvert_exporter": "python",
   "pygments_lexer": "ipython3",
   "version": "3.4.3"
  }
 },
 "nbformat": 4,
 "nbformat_minor": 0
}
