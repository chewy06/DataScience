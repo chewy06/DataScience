{
 "cells": [
  {
   "cell_type": "markdown",
   "metadata": {
    "nbgrader": {}
   },
   "source": [
    "# Basic Pandas Homework"
   ]
  },
  {
   "cell_type": "code",
   "execution_count": 7,
   "metadata": {
    "collapsed": false,
    "nbgrader": {}
   },
   "outputs": [],
   "source": [
    "import pandas as pd\n",
    "import numpy as np\n",
    "import matplotlib.pyplot as plt\n",
    "%matplotlib inline"
   ]
  },
  {
   "cell_type": "markdown",
   "metadata": {
    "nbgrader": {}
   },
   "source": [
    "## DatFrame and Series"
   ]
  },
  {
   "cell_type": "markdown",
   "metadata": {
    "nbgrader": {}
   },
   "source": [
    "Create a `DataFrame` named `df1` with the following properties:\n",
    "\n",
    "* 10 rows.\n",
    "* An `age` column with random ages between 0 and 100 (inclusive).\n",
    "* A `cell_phone` column of randomly sampled categorical values `ios`, `android`, `windows`.\n",
    "* A `gender` column of randomly sampled categorical values `f` and `m`.\n",
    "* The order of columns should be `gender`, `age`, `cell_phone`.\n",
    "* A row index consisting of lowercase alphabetical letters.\n",
    "\n",
    "Use the function defined above to create this `DataFrame`."
   ]
  },
  {
   "cell_type": "code",
   "execution_count": 29,
   "metadata": {
    "collapsed": false,
    "deletable": false,
    "nbgrader": {
     "checksum": "874a325d28b3f9a50e43e044197b70ec",
     "grade_id": "basic-pandas-a",
     "solution": true
    }
   },
   "outputs": [],
   "source": [
    "d = {'gender': pd.Series(np.random.choice(['f','m'], 10), index=['a','b','c','d','f','g','h','i','j','k'],dtype='category'),\n",
    "     'age':pd.Series(np.random.randint(0,101,10), index=['a','b','c','d','f','g','h','i','j','k']),\n",
    "     'cell_phone' : pd.Series(np.random.choice(['android','ios','windows'],10), index=['a','b','c','d','f','g','h','i','j','k'],dtype='category')}"
   ]
  },
  {
   "cell_type": "code",
   "execution_count": 30,
   "metadata": {
    "collapsed": false,
    "nbgrader": {}
   },
   "outputs": [],
   "source": [
    "df1 = pd.DataFrame(d,index=['a','b','c','d','f','g','h','i','j','k'],columns=['gender','age','cell_phone'])"
   ]
  },
  {
   "cell_type": "code",
   "execution_count": 31,
   "metadata": {
    "collapsed": false
   },
   "outputs": [
    {
     "data": {
      "text/html": [
       "<div>\n",
       "<table border=\"1\" class=\"dataframe\">\n",
       "  <thead>\n",
       "    <tr style=\"text-align: right;\">\n",
       "      <th></th>\n",
       "      <th>gender</th>\n",
       "      <th>age</th>\n",
       "      <th>cell_phone</th>\n",
       "    </tr>\n",
       "  </thead>\n",
       "  <tbody>\n",
       "    <tr>\n",
       "      <th>a</th>\n",
       "      <td>f</td>\n",
       "      <td>59</td>\n",
       "      <td>android</td>\n",
       "    </tr>\n",
       "    <tr>\n",
       "      <th>b</th>\n",
       "      <td>m</td>\n",
       "      <td>80</td>\n",
       "      <td>ios</td>\n",
       "    </tr>\n",
       "    <tr>\n",
       "      <th>c</th>\n",
       "      <td>f</td>\n",
       "      <td>23</td>\n",
       "      <td>ios</td>\n",
       "    </tr>\n",
       "    <tr>\n",
       "      <th>d</th>\n",
       "      <td>f</td>\n",
       "      <td>51</td>\n",
       "      <td>ios</td>\n",
       "    </tr>\n",
       "    <tr>\n",
       "      <th>f</th>\n",
       "      <td>f</td>\n",
       "      <td>77</td>\n",
       "      <td>ios</td>\n",
       "    </tr>\n",
       "    <tr>\n",
       "      <th>g</th>\n",
       "      <td>f</td>\n",
       "      <td>86</td>\n",
       "      <td>windows</td>\n",
       "    </tr>\n",
       "    <tr>\n",
       "      <th>h</th>\n",
       "      <td>m</td>\n",
       "      <td>0</td>\n",
       "      <td>windows</td>\n",
       "    </tr>\n",
       "    <tr>\n",
       "      <th>i</th>\n",
       "      <td>f</td>\n",
       "      <td>7</td>\n",
       "      <td>android</td>\n",
       "    </tr>\n",
       "    <tr>\n",
       "      <th>j</th>\n",
       "      <td>f</td>\n",
       "      <td>24</td>\n",
       "      <td>android</td>\n",
       "    </tr>\n",
       "    <tr>\n",
       "      <th>k</th>\n",
       "      <td>f</td>\n",
       "      <td>86</td>\n",
       "      <td>android</td>\n",
       "    </tr>\n",
       "  </tbody>\n",
       "</table>\n",
       "</div>"
      ],
      "text/plain": [
       "  gender  age cell_phone\n",
       "a      f   59    android\n",
       "b      m   80        ios\n",
       "c      f   23        ios\n",
       "d      f   51        ios\n",
       "f      f   77        ios\n",
       "g      f   86    windows\n",
       "h      m    0    windows\n",
       "i      f    7    android\n",
       "j      f   24    android\n",
       "k      f   86    android"
      ]
     },
     "execution_count": 31,
     "metadata": {},
     "output_type": "execute_result"
    }
   ],
   "source": [
    "df1"
   ]
  },
  {
   "cell_type": "markdown",
   "metadata": {
    "nbgrader": {}
   },
   "source": [
    "Make sure your code passes the following `assert` statements:"
   ]
  },
  {
   "cell_type": "code",
   "execution_count": 32,
   "metadata": {
    "collapsed": false,
    "deletable": false,
    "nbgrader": {
     "checksum": "6672a354e9a487f35b21677b5da497e0",
     "grade": true,
     "grade_id": "basic-pandas-b",
     "grader_id": "df1",
     "points": 3
    }
   },
   "outputs": [],
   "source": [
    "assert 'a' in df1.index\n",
    "assert 'j' in df1.index\n",
    "assert 'age' in df1.columns\n",
    "assert 'cell_phone' in df1.columns\n",
    "assert 'gender' in df1.columns\n",
    "assert df1.age.dtype.name=='int64'\n",
    "assert df1.cell_phone.dtype.name=='category'\n",
    "assert df1.gender.dtype.name=='category'\n",
    "assert list(df1.columns)==['gender','age','cell_phone']"
   ]
  },
  {
   "cell_type": "markdown",
   "metadata": {
    "nbgrader": {}
   },
   "source": [
    "Create a new `DataFrame`, named `df2` with the following transformations:\n",
    "\n",
    "* Extract rows `a` through `g`\n",
    "* Extract the `age` and `gender` column, but put `age` first.\n",
    "* Reverse the rows to they run `g` to `a`.\n",
    "* Add a new column named `income` that is a random list of dollars between [0,10000]\n",
    "* Add a new column named `expenses` that is a random list of dollars between [0,10000]\n",
    "* Create a new column named `profit` that is computed using the `income` and `expenses` columns."
   ]
  },
  {
   "cell_type": "code",
   "execution_count": 44,
   "metadata": {
    "collapsed": false,
    "deletable": false,
    "nbgrader": {
     "checksum": "c9d3d4f2c7399ff4caeb02a74dc9cfcd",
     "grade": false,
     "grade_id": "basic-pandas-c",
     "solution": true
    }
   },
   "outputs": [],
   "source": [
    "df2 = pd.DataFrame(d, index=['a','b','c','d','f','g'], columns=['age','gender'])"
   ]
  },
  {
   "cell_type": "code",
   "execution_count": 45,
   "metadata": {
    "collapsed": false,
    "nbgrader": {}
   },
   "outputs": [],
   "source": [
    "df2 = df2.iloc[::-1]"
   ]
  },
  {
   "cell_type": "code",
   "execution_count": 51,
   "metadata": {
    "collapsed": false
   },
   "outputs": [],
   "source": [
    "df2['income'] = pd.Series(np.random.randint(0,10000,6), index=['a','b','c','d','f','g'])"
   ]
  },
  {
   "cell_type": "code",
   "execution_count": 52,
   "metadata": {
    "collapsed": true
   },
   "outputs": [],
   "source": [
    "df2['expenses'] = pd.Series(np.random.randint(0,10000,6), index=['a','b','c','d','f','g'])"
   ]
  },
  {
   "cell_type": "code",
   "execution_count": 53,
   "metadata": {
    "collapsed": true
   },
   "outputs": [],
   "source": [
    "df2['profit'] = df2['income'] - df2['expenses']"
   ]
  },
  {
   "cell_type": "code",
   "execution_count": 54,
   "metadata": {
    "collapsed": false
   },
   "outputs": [
    {
     "data": {
      "text/html": [
       "<div>\n",
       "<table border=\"1\" class=\"dataframe\">\n",
       "  <thead>\n",
       "    <tr style=\"text-align: right;\">\n",
       "      <th></th>\n",
       "      <th>age</th>\n",
       "      <th>gender</th>\n",
       "      <th>income</th>\n",
       "      <th>expenses</th>\n",
       "      <th>profit</th>\n",
       "    </tr>\n",
       "  </thead>\n",
       "  <tbody>\n",
       "    <tr>\n",
       "      <th>g</th>\n",
       "      <td>86</td>\n",
       "      <td>f</td>\n",
       "      <td>400</td>\n",
       "      <td>6900</td>\n",
       "      <td>-6500</td>\n",
       "    </tr>\n",
       "    <tr>\n",
       "      <th>f</th>\n",
       "      <td>77</td>\n",
       "      <td>f</td>\n",
       "      <td>1806</td>\n",
       "      <td>4718</td>\n",
       "      <td>-2912</td>\n",
       "    </tr>\n",
       "    <tr>\n",
       "      <th>d</th>\n",
       "      <td>51</td>\n",
       "      <td>f</td>\n",
       "      <td>1875</td>\n",
       "      <td>3751</td>\n",
       "      <td>-1876</td>\n",
       "    </tr>\n",
       "    <tr>\n",
       "      <th>c</th>\n",
       "      <td>23</td>\n",
       "      <td>f</td>\n",
       "      <td>5040</td>\n",
       "      <td>3501</td>\n",
       "      <td>1539</td>\n",
       "    </tr>\n",
       "    <tr>\n",
       "      <th>b</th>\n",
       "      <td>80</td>\n",
       "      <td>m</td>\n",
       "      <td>7507</td>\n",
       "      <td>3712</td>\n",
       "      <td>3795</td>\n",
       "    </tr>\n",
       "    <tr>\n",
       "      <th>a</th>\n",
       "      <td>59</td>\n",
       "      <td>f</td>\n",
       "      <td>1180</td>\n",
       "      <td>422</td>\n",
       "      <td>758</td>\n",
       "    </tr>\n",
       "  </tbody>\n",
       "</table>\n",
       "</div>"
      ],
      "text/plain": [
       "   age gender  income  expenses  profit\n",
       "g   86      f     400      6900   -6500\n",
       "f   77      f    1806      4718   -2912\n",
       "d   51      f    1875      3751   -1876\n",
       "c   23      f    5040      3501    1539\n",
       "b   80      m    7507      3712    3795\n",
       "a   59      f    1180       422     758"
      ]
     },
     "execution_count": 54,
     "metadata": {},
     "output_type": "execute_result"
    }
   ],
   "source": [
    "df2"
   ]
  },
  {
   "cell_type": "markdown",
   "metadata": {
    "nbgrader": {}
   },
   "source": [
    "Make sure your code passes the following `assert` statements:"
   ]
  },
  {
   "cell_type": "code",
   "execution_count": 55,
   "metadata": {
    "collapsed": false,
    "deletable": false,
    "nbgrader": {
     "checksum": "2c1b2029c60109ba8c731e034a8b5049",
     "grade": true,
     "grade_id": "basic-pandas-d",
     "grader_id": "df2",
     "points": 3
    }
   },
   "outputs": [],
   "source": [
    "assert df2.index[0]=='g'\n",
    "assert df2.index[-1]=='a'\n",
    "assert list(df2.columns)==['age','gender','income','expenses','profit']\n",
    "assert df2.income.dtype.name=='int64'\n",
    "assert df2.expenses.dtype.name=='int64'\n",
    "assert df2.expenses.dtype.name=='int64'\n",
    "assert all(df2.profit+df2.expenses-df2.income==0)"
   ]
  },
  {
   "cell_type": "markdown",
   "metadata": {
    "nbgrader": {}
   },
   "source": [
    "Write a function named `mean_and_std` that takes a `Series` object and returns a new `Series` that contains the mean and standard deviation of the original series."
   ]
  },
  {
   "cell_type": "code",
   "execution_count": 164,
   "metadata": {
    "collapsed": false,
    "deletable": false,
    "nbgrader": {
     "checksum": "12d85117d924b03c829d32fb3b46c740",
     "grade": false,
     "grade_id": "basic-pandas-e",
     "locked": false,
     "solution": true
    }
   },
   "outputs": [],
   "source": [
    "def mean_and_std(s):\n",
    "    \"\"\"Compute the mean and std of series s.\n",
    "    Parameters\n",
    "    ----------\n",
    "    s : Series\n",
    "    \n",
    "    Returns\n",
    "    -------\n",
    "    Series containing the mean and std of s with an index of `mean` and `std`.\n",
    "    \"\"\"\n",
    "    mean = s.mean()\n",
    "    std = s.std()\n",
    "    return pd.Series([mean,std], index=['mean','std'])"
   ]
  },
  {
   "cell_type": "markdown",
   "metadata": {
    "nbgrader": {}
   },
   "source": [
    "Make sure your code passes the following `assert` statements:"
   ]
  },
  {
   "cell_type": "code",
   "execution_count": 165,
   "metadata": {
    "collapsed": false,
    "deletable": false,
    "nbgrader": {
     "checksum": "3461c91ccd78d1b83aa8d545cab58a42",
     "grade": true,
     "grade_id": "basic-pandas-f",
     "grader_id": "mean_and_std",
     "points": 2
    }
   },
   "outputs": [],
   "source": [
    "assert list(mean_and_std(df2.age).index)==['mean','std']\n",
    "assert mean_and_std(df2.age)['mean']==df2.age.describe()['mean']\n",
    "assert mean_and_std(df2.age)['std']==df2.age.describe()['std']"
   ]
  },
  {
   "cell_type": "markdown",
   "metadata": {
    "nbgrader": {}
   },
   "source": [
    "Use the `.apply()` method with `mean_and_std` to compute the mean and standard deviation of only the columns `income`, `expenses` and profit. Save the result in a variable named `stats`."
   ]
  },
  {
   "cell_type": "code",
   "execution_count": 183,
   "metadata": {
    "collapsed": false,
    "deletable": false,
    "nbgrader": {
     "checksum": "b18f57258d13daddd8ab572792bc12bd",
     "grade_id": "basic-pandas-g",
     "solution": true
    }
   },
   "outputs": [],
   "source": [
    "stats = df2[['income','expenses','profit']].apply(mean_and_std)"
   ]
  },
  {
   "cell_type": "code",
   "execution_count": 184,
   "metadata": {
    "collapsed": false
   },
   "outputs": [
    {
     "data": {
      "text/html": [
       "<div>\n",
       "<table border=\"1\" class=\"dataframe\">\n",
       "  <thead>\n",
       "    <tr style=\"text-align: right;\">\n",
       "      <th></th>\n",
       "      <th>income</th>\n",
       "      <th>expenses</th>\n",
       "      <th>profit</th>\n",
       "    </tr>\n",
       "  </thead>\n",
       "  <tbody>\n",
       "    <tr>\n",
       "      <th>mean</th>\n",
       "      <td>2968.000000</td>\n",
       "      <td>3834.000000</td>\n",
       "      <td>-866.000000</td>\n",
       "    </tr>\n",
       "    <tr>\n",
       "      <th>std</th>\n",
       "      <td>2728.815347</td>\n",
       "      <td>2095.529432</td>\n",
       "      <td>3663.181513</td>\n",
       "    </tr>\n",
       "  </tbody>\n",
       "</table>\n",
       "</div>"
      ],
      "text/plain": [
       "           income     expenses       profit\n",
       "mean  2968.000000  3834.000000  -866.000000\n",
       "std   2728.815347  2095.529432  3663.181513"
      ]
     },
     "execution_count": 184,
     "metadata": {},
     "output_type": "execute_result"
    }
   ],
   "source": [
    "stats"
   ]
  },
  {
   "cell_type": "markdown",
   "metadata": {
    "nbgrader": {}
   },
   "source": [
    "Make sure your code passes the following `assert` statements:"
   ]
  },
  {
   "cell_type": "code",
   "execution_count": 185,
   "metadata": {
    "collapsed": false,
    "deletable": false,
    "nbgrader": {
     "checksum": "e94f72f1c277d5e42b22979dc7f0718b",
     "grade": true,
     "grade_id": "basic-pandas-h",
     "grader_id": "stats",
     "points": 2
    }
   },
   "outputs": [],
   "source": [
    "d = df2[['income','expenses','profit']].describe()\n",
    "assert 'income' in stats.columns\n",
    "assert 'expenses' in stats.columns\n",
    "assert 'profit' in stats.columns\n",
    "assert stats.ix['mean','income']==d.ix['mean','income']\n",
    "assert stats.ix['mean','expenses']==d.ix['mean','expenses']\n",
    "assert stats.ix['mean','profit']==d.ix['mean','profit']\n",
    "assert stats.ix['std','income']==d.ix['std','income']\n",
    "assert stats.ix['std','expenses']==d.ix['std','expenses']\n",
    "assert stats.ix['std','profit']==d.ix['std','profit']"
   ]
  },
  {
   "cell_type": "code",
   "execution_count": null,
   "metadata": {
    "collapsed": true
   },
   "outputs": [],
   "source": []
  }
 ],
 "metadata": {
  "kernelspec": {
   "display_name": "Python 3",
   "language": "python",
   "name": "python3"
  },
  "language_info": {
   "codemirror_mode": {
    "name": "ipython",
    "version": 3
   },
   "file_extension": ".py",
   "mimetype": "text/x-python",
   "name": "python",
   "nbconvert_exporter": "python",
   "pygments_lexer": "ipython3",
   "version": "3.4.3"
  }
 },
 "nbformat": 4,
 "nbformat_minor": 0
}
