{
 "cells": [
  {
   "cell_type": "code",
   "execution_count": 15,
   "metadata": {
    "collapsed": true
   },
   "outputs": [],
   "source": [
    "%matplotlib inline\n",
    "import matplotlib.pyplot as plt\n",
    "import seaborn as sns\n",
    "\n",
    "import numpy as np\n",
    "import pandas as pd\n",
    "import os"
   ]
  },
  {
   "cell_type": "markdown",
   "metadata": {
    "collapsed": true
   },
   "source": [
    "# Hillary's emails"
   ]
  },
  {
   "cell_type": "markdown",
   "metadata": {},
   "source": [
    "## Abstract:"
   ]
  },
  {
   "cell_type": "markdown",
   "metadata": {},
   "source": [
    "In 2015 a controversy arose when it became publicily known that Hillary clinton used family's private emails server for official email conmmunications while she was the United States Secretary of State. Part of the controversy was the deletion of nearly 32,000 email that she deemed private. Nearly 2,100 emails have been marked classified by the state Departmet.Another 65 emiails were deemed secret and 22 deemed top secret. \n",
    "* OBJECTIVES\n",
    "    - Dig through the 2,100 emails a create a statical model that differentias classified with normal emails. \n",
    "    - Determine the difference between classified email and deemed secret emails. "
   ]
  },
  {
   "cell_type": "markdown",
   "metadata": {},
   "source": [
    "## Dataset description"
   ]
  },
  {
   "cell_type": "markdown",
   "metadata": {},
   "source": [
    "The original transcripts were transfered as pdf but kaggle broke it down nicely into manageble csv. The dataset is broken down into 5 tables each having pieces of information that can be found on the email data table. The data has been timestamped since the controversy process. The data is considered to be messy and imprecise. \n",
    "* [Link to Dataset](https://www.kaggle.com/kaggle/hillary-clinton-emails)"
   ]
  },
  {
   "cell_type": "markdown",
   "metadata": {
    "collapsed": true
   },
   "source": [
    "## Index"
   ]
  },
  {
   "cell_type": "markdown",
   "metadata": {},
   "source": [
    "### [02-DataCleaning](02-DataCleaning.ipynb)"
   ]
  },
  {
   "cell_type": "markdown",
   "metadata": {},
   "source": [
    "For my first notebook I focused on having separate tables that can be easily used to find data. The table names should tell a little of the type of content they carry. "
   ]
  },
  {
   "cell_type": "markdown",
   "metadata": {},
   "source": [
    "### [03-Exploration.ipynb](03-Exploration.ipynb)"
   ]
  },
  {
   "cell_type": "markdown",
   "metadata": {},
   "source": [
    "On my exploraiton notebook I focused on finding out what content I was working with. I worked on merging and joining tables to accomplish certain tasks. Also method on how to access data much more efficiently. "
   ]
  },
  {
   "cell_type": "markdown",
   "metadata": {},
   "source": [
    "### [04-Modeling](04-Modeling.ipynb)"
   ]
  },
  {
   "cell_type": "markdown",
   "metadata": {},
   "source": [
    "To find new ralationship between emails I decided to use Markov chain. The subject headings differ from Freedom of Information Act(FOIA) and original emails, therefore I decided to get a feel of the raw text based on Markov chain. "
   ]
  },
  {
   "cell_type": "code",
   "execution_count": null,
   "metadata": {
    "collapsed": true
   },
   "outputs": [],
   "source": []
  }
 ],
 "metadata": {
  "kernelspec": {
   "display_name": "Python 3",
   "language": "python",
   "name": "python3"
  },
  "language_info": {
   "codemirror_mode": {
    "name": "ipython",
    "version": 3
   },
   "file_extension": ".py",
   "mimetype": "text/x-python",
   "name": "python",
   "nbconvert_exporter": "python",
   "pygments_lexer": "ipython3",
   "version": "3.4.3"
  }
 },
 "nbformat": 4,
 "nbformat_minor": 0
}
